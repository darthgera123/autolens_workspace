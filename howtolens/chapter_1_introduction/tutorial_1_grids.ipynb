{
 "cells": [
  {
   "cell_type": "markdown",
   "metadata": {},
   "source": [
    "__Grids__\n",
    "\n",
    "In this example, we'll create grids of Cartesian (y,x) coordinates, representing the arc-second coordinate grid of an observed data-set (e.g. imaging)."
   ]
  },
  {
   "cell_type": "code",
   "execution_count": 4,
   "metadata": {},
   "outputs": [],
   "source": [
    "import autolens as al\n",
    "import autolens.plot as aplt\n",
    "%matplotlib inline"
   ]
  },
  {
   "cell_type": "markdown",
   "metadata": {},
   "source": [
    "In PyAutoLens, a grid is a set of two-dimensional (y,x) coordinates (in arc-seconds) that are deflected and traced by a strong lensing system.\n",
    "\n",
    "This coordinate grid is aligned with the image we analyze, such that each coordinate on a  grid maps to the centre of each image-pixel. Lets make a grid using 100 x 100 pixels, with a pixel scale (arcsecond-to-pixel conversion factor) of 0.05\", giving us a a 5\" x 5\" grid."
   ]
  },
  {
   "cell_type": "code",
   "execution_count": 2,
   "metadata": {},
   "outputs": [],
   "source": [
    "grid = al.grid.uniform(\n",
    "    shape_2d=(100, 100), pixel_scales=0.05\n",
    ")"
   ]
  },
  {
   "cell_type": "markdown",
   "metadata": {},
   "source": [
    "First, lets plot this grid, which shows that it is a fairly bland uniform grid of dots."
   ]
  },
  {
   "cell_type": "code",
   "execution_count": 6,
   "metadata": {},
   "outputs": [
    {
     "data": {
      "image/png": "[encoded data removed]",
      "text/plain": [
       "<Figure size 504x504 with 1 Axes>"
      ]
     },
     "metadata": {
      "needs_background": "light"
     },
     "output_type": "display_data"
    }
   ],
   "source": [
    "plotter = aplt.Plotter(\n",
    "    labels=aplt.Labels(title=\"Fairly Bland Uniform Grid Of Dots\")\n",
    ")\n",
    "\n",
    "aplt.grid(grid=grid, plotter=plotter)"
   ]
  },
  {
   "cell_type": "markdown",
   "metadata": {},
   "source": [
    "We can print each coordinate of this grid, revealing that it consists of a set of arc-second coordinates (where the spacing between each coordinate corresponds to the 'pixel_scales' of 0.05\" defined above)"
   ]
  },
  {
   "cell_type": "code",
   "execution_count": 5,
   "metadata": {},
   "outputs": [
    {
     "name": "stdout",
     "output_type": "stream",
     "text": [
      "(y,x) pixel 0:\n",
      "[ 2.475 -2.475]\n",
      "(y,x) pixel 1:\n",
      "[ 2.475 -2.425]\n",
      "(y,x) pixel 2:\n",
      "[ 2.475 -2.375]\n",
      "(y,x) pixel 100:\n",
      "[ 2.425 -2.475]\n",
      "etc.\n"
     ]
    }
   ],
   "source": [
    "print(\"(y,x) pixel 0:\")\n",
    "print(grid.in_2d[0,0])\n",
    "print(\"(y,x) pixel 1:\")\n",
    "print(grid.in_2d[0,1])\n",
    "print(\"(y,x) pixel 2:\")\n",
    "print(grid.in_2d[0,2])\n",
    "print(\"(y,x) pixel 100:\")\n",
    "print(grid.in_2d[1,0])\n",
    "print(\"etc.\")"
   ]
  },
  {
   "cell_type": "markdown",
   "metadata": {},
   "source": [
    "Grids in PyAutoLens are stored as both 1D and 2D NumPy arrays, because different calculations benefit from us using the array in different formats. We can access both the 1D and 2D arrays automatically by specifying the input as a 1D or 2D."
   ]
  },
  {
   "cell_type": "code",
   "execution_count": 11,
   "metadata": {},
   "outputs": [
    {
     "name": "stdout",
     "output_type": "stream",
     "text": [
      "(y,x) pixel 0 (accessed in 2D):\n",
      "[ 2.475 -2.475]\n",
      "(y,x) pixel 0 (accessed in 1D):\n",
      "[ 2.475 -2.475]\n"
     ]
    }
   ],
   "source": [
    "print(\"(y,x) pixel 0 (accessed in 2D):\")\n",
    "print(grid.in_2d[0,0])\n",
    "print(\"(y,x) pixel 0 (accessed in 1D):\")\n",
    "print(grid.in_1d[0])"
   ]
  },
  {
   "cell_type": "markdown",
   "metadata": {},
   "source": [
    "The shape of the grid is also available in 1D and 2D, consisting of 10000 (100 x 100) coordinates."
   ]
  },
  {
   "cell_type": "code",
   "execution_count": 12,
   "metadata": {},
   "outputs": [
    {
     "name": "stdout",
     "output_type": "stream",
     "text": [
      "(100, 100)\n",
      "10000\n"
     ]
    }
   ],
   "source": [
    "print(grid.shape_2d)\n",
    "print(grid.shape_1d)"
   ]
  },
  {
   "cell_type": "markdown",
   "metadata": {},
   "source": [
    "We can print the entire grid in either 1D or 2D. "
   ]
  },
  {
   "cell_type": "code",
   "execution_count": 19,
   "metadata": {},
   "outputs": [
    {
     "name": "stdout",
     "output_type": "stream",
     "text": [
      "[[[ 2.4875 -2.4875]\n",
      "  [ 2.4875 -2.4625]\n",
      "  [ 2.4875 -2.4375]\n",
      "  ...\n",
      "  [ 2.4875  2.4375]\n",
      "  [ 2.4875  2.4625]\n",
      "  [ 2.4875  2.4875]]\n",
      "\n",
      " [[ 2.4625 -2.4875]\n",
      "  [ 2.4625 -2.4625]\n",
      "  [ 2.4625 -2.4375]\n",
      "  ...\n",
      "  [ 2.4625  2.4375]\n",
      "  [ 2.4625  2.4625]\n",
      "  [ 2.4625  2.4875]]\n",
      "\n",
      " [[ 2.4375 -2.4875]\n",
      "  [ 2.4375 -2.4625]\n",
      "  [ 2.4375 -2.4375]\n",
      "  ...\n",
      "  [ 2.4375  2.4375]\n",
      "  [ 2.4375  2.4625]\n",
      "  [ 2.4375  2.4875]]\n",
      "\n",
      " ...\n",
      "\n",
      " [[-2.4375 -2.4875]\n",
      "  [-2.4375 -2.4625]\n",
      "  [-2.4375 -2.4375]\n",
      "  ...\n",
      "  [-2.4375  2.4375]\n",
      "  [-2.4375  2.4625]\n",
      "  [-2.4375  2.4875]]\n",
      "\n",
      " [[-2.4625 -2.4875]\n",
      "  [-2.4625 -2.4625]\n",
      "  [-2.4625 -2.4375]\n",
      "  ...\n",
      "  [-2.4625  2.4375]\n",
      "  [-2.4625  2.4625]\n",
      "  [-2.4625  2.4875]]\n",
      "\n",
      " [[-2.4875 -2.4875]\n",
      "  [-2.4875 -2.4625]\n",
      "  [-2.4875 -2.4375]\n",
      "  ...\n",
      "  [-2.4875  2.4375]\n",
      "  [-2.4875  2.4625]\n",
      "  [-2.4875  2.4875]]]\n",
      "[[ 2.4875 -2.4875]\n",
      " [ 2.4875 -2.4625]\n",
      " [ 2.4625 -2.4875]\n",
      " ...\n",
      " [-2.4625  2.4875]\n",
      " [-2.4875  2.4625]\n",
      " [-2.4875  2.4875]]\n"
     ]
    },
    {
     "ename": "NameError",
     "evalue": "name 'plt' is not defined",
     "output_type": "error",
     "traceback": [
      "\u001b[0;31m---------------------------------------------------------------------------\u001b[0m",
      "\u001b[0;31mNameError\u001b[0m                                 Traceback (most recent call last)",
      "\u001b[0;32m<ipython-input-19-147fec65ec63>\u001b[0m in \u001b[0;36m<module>\u001b[0;34m\u001b[0m\n\u001b[1;32m      1\u001b[0m \u001b[0mprint\u001b[0m\u001b[0;34m(\u001b[0m\u001b[0mgrid\u001b[0m\u001b[0;34m.\u001b[0m\u001b[0min_2d\u001b[0m\u001b[0;34m)\u001b[0m\u001b[0;34m\u001b[0m\u001b[0;34m\u001b[0m\u001b[0m\n\u001b[1;32m      2\u001b[0m \u001b[0mprint\u001b[0m\u001b[0;34m(\u001b[0m\u001b[0mgrid\u001b[0m\u001b[0;34m.\u001b[0m\u001b[0min_1d\u001b[0m\u001b[0;34m)\u001b[0m\u001b[0;34m\u001b[0m\u001b[0;34m\u001b[0m\u001b[0m\n\u001b[0;32m----> 3\u001b[0;31m \u001b[0mplt\u001b[0m\u001b[0;34m.\u001b[0m\u001b[0mimshow\u001b[0m\u001b[0;34m(\u001b[0m\u001b[0mgrid\u001b[0m\u001b[0;34m.\u001b[0m\u001b[0min_2d\u001b[0m\u001b[0;34m)\u001b[0m\u001b[0;34m\u001b[0m\u001b[0;34m\u001b[0m\u001b[0m\n\u001b[0m",
      "\u001b[0;31mNameError\u001b[0m: name 'plt' is not defined"
     ]
    }
   ],
   "source": [
    "print(grid.in_2d)\n",
    "print(grid.in_1d)"
   ]
  },
  {
   "cell_type": "markdown",
   "metadata": {},
   "source": [
    "A grid can also have a sub-grid, which splits each pixel on the grid into sub-pixels of size (sub_size x sub_size). These additional pixels are used to perform calculations more accurately."
   ]
  },
  {
   "cell_type": "code",
   "execution_count": 14,
   "metadata": {},
   "outputs": [],
   "source": [
    "grid = al.grid.uniform(shape_2d=(100, 100), pixel_scales=0.05, sub_size=2)"
   ]
  },
  {
   "cell_type": "markdown",
   "metadata": {},
   "source": [
    "We specified a sub_size of 2 above, therefore we expect 4 (2 x 2) times more sub-pixels than pixels. We can see this is the case by inspecting the grid sub_shape attributes."
   ]
  },
  {
   "cell_type": "code",
   "execution_count": 15,
   "metadata": {},
   "outputs": [
    {
     "name": "stdout",
     "output_type": "stream",
     "text": [
      "40000\n",
      "(200, 200)\n"
     ]
    }
   ],
   "source": [
    "print(grid.sub_shape_1d)\n",
    "print(grid.sub_shape_2d)"
   ]
  },
  {
   "cell_type": "markdown",
   "metadata": {},
   "source": [
    "The first four pixels of our sub-grid correspond to the first four sub-pixels, which form a sub-grid inside the\n",
    "first grid pixel, as follows:"
   ]
  },
  {
   "cell_type": "code",
   "execution_count": null,
   "metadata": {},
   "outputs": [],
   "source": [
    "# pixel 1:\n",
    "#              _________\n",
    "#              |         |\n",
    "#              |         |  o = (y,x) centre of \n",
    "# y = 2.475\"   |    o    |       grid coordinate.\n",
    "#              |         |\n",
    "#              |_________|\n",
    "#              x = -2.475\n",
    "\n",
    "# Sub-pixels 1, 2, 3 & 4:\n",
    "#               _________\n",
    "#              |         |\n",
    "#              |  o   o  |  o = (y,x) centre of sub-\n",
    "# y = 2.475\"   |         |       grid coordinates.\n",
    "#              |  o   o  |\n",
    "#              |_________|\n",
    "#              x = -2.475\n",
    "\n",
    "# The sub-pixels coordinate are spaced uniformly between the pixel's edges\n",
    "# (which are at y = (2.45\", 2.5\") and x = (-2.5\". -2.45\") )"
   ]
  },
  {
   "cell_type": "markdown",
   "metadata": {},
   "source": [
    "By default, a grid is stored in 1D, and we can access its elements without specifying 'in_1d'"
   ]
  },
  {
   "cell_type": "code",
   "execution_count": 16,
   "metadata": {},
   "outputs": [
    {
     "name": "stdout",
     "output_type": "stream",
     "text": [
      "(y,x) sub-pixel 0 (of pixel 0):\n",
      "[ 2.4875 -2.4875]\n",
      "(y,x) sub-pixel 1 (of pixel 0):\n",
      "[ 2.4875 -2.4625]\n",
      "(y,x) sub-pixel 2 (of pixel 0):\n",
      "[ 2.4625 -2.4875]\n",
      "(y,x) sub-pixel 3 (of pixel 0):\n",
      "[ 2.4625 -2.4625]\n"
     ]
    }
   ],
   "source": [
    "print(\"(y,x) sub-pixel 0 (of pixel 0):\")\n",
    "print(grid[0])\n",
    "print(\"(y,x) sub-pixel 1 (of pixel 0):\")\n",
    "print(grid[1])\n",
    "print(\"(y,x) sub-pixel 2 (of pixel 0):\")\n",
    "print(grid[2])\n",
    "print(\"(y,x) sub-pixel 3 (of pixel 0):\")\n",
    "print(grid[3])"
   ]
  },
  {
   "cell_type": "markdown",
   "metadata": {},
   "source": [
    "The sub-grid then continues on to the next grid pixels (and so on)"
   ]
  },
  {
   "cell_type": "code",
   "execution_count": 17,
   "metadata": {},
   "outputs": [
    {
     "name": "stdout",
     "output_type": "stream",
     "text": [
      "(y,x) sub-pixel 0 (of pixel 1):\n",
      "[ 2.4875 -2.4375]\n",
      "(y,x) sub-pixel 0 (of pixel 1):\n",
      "[ 2.4875 -2.4125]\n",
      "etc.\n"
     ]
    }
   ],
   "source": [
    "print(\"(y,x) sub-pixel 0 (of pixel 1):\")\n",
    "print(grid[4])\n",
    "print(\"(y,x) sub-pixel 0 (of pixel 1):\")\n",
    "print(grid[5])\n",
    "print(\"etc.\")"
   ]
  },
  {
   "cell_type": "markdown",
   "metadata": {},
   "source": [
    "We can again access these coordinates in 2D."
   ]
  },
  {
   "cell_type": "code",
   "execution_count": 18,
   "metadata": {},
   "outputs": [
    {
     "name": "stdout",
     "output_type": "stream",
     "text": [
      "(y,x) sub-pixel 0 (of pixel 1):\n",
      "[ 2.4875 -2.4375]\n",
      "(y,x) sub-pixel 1 (of pixel 1):\n",
      "[ 2.4875 -2.4125]\n",
      "etc.\n"
     ]
    }
   ],
   "source": [
    "print(\"(y,x) sub-pixel 0 (of pixel 1):\")\n",
    "print(grid.in_2d[0, 2])\n",
    "print(\"(y,x) sub-pixel 1 (of pixel 1):\")\n",
    "print(grid.in_2d[0, 3])\n",
    "print(\"etc.\")"
   ]
  },
  {
   "cell_type": "markdown",
   "metadata": {},
   "source": [
    "Congratulations, you've completed your first PyAutoLens tutorial! Before moving on to the next one, experiment with PyAutoLens by doing the following:\n",
    "\n",
    "1) Change the pixel-scale of the grids - what happens to the Cartesian coordinates?\n",
    "2) Change the resolution of the grids - what happens Cartesian coordinates?\n",
    "3) Change the sub-grid size - what do you note about the pixel-scale of sub pixels?"
   ]
  },
  {
   "cell_type": "code",
   "execution_count": 20,
   "metadata": {},
   "outputs": [],
   "source": [
    "grid1 = al.grid.uniform(\n",
    "    shape_2d=(100, 100), pixel_scales=0.1\n",
    ")"
   ]
  },
  {
   "cell_type": "code",
   "execution_count": 22,
   "metadata": {},
   "outputs": [
    {
     "data": {
      "text/plain": [
       "Grid([ 4.95, -4.75])"
      ]
     },
     "execution_count": 22,
     "metadata": {},
     "output_type": "execute_result"
    }
   ],
   "source": [
    "grid1[2]"
   ]
  },
  {
   "cell_type": "code",
   "execution_count": 23,
   "metadata": {},
   "outputs": [],
   "source": [
    "grid2 = al.grid.uniform(\n",
    "    shape_2d=(200, 200), pixel_scales=0.05\n",
    ")"
   ]
  },
  {
   "cell_type": "code",
   "execution_count": 28,
   "metadata": {},
   "outputs": [
    {
     "data": {
      "text/plain": [
       "Grid([ 4.975, -4.975])"
      ]
     },
     "execution_count": 28,
     "metadata": {},
     "output_type": "execute_result"
    }
   ],
   "source": [
    "grid2[0]"
   ]
  },
  {
   "cell_type": "code",
   "execution_count": 29,
   "metadata": {},
   "outputs": [
    {
     "data": {
      "text/plain": [
       "Grid([ 4.95, -4.95])"
      ]
     },
     "execution_count": 29,
     "metadata": {},
     "output_type": "execute_result"
    }
   ],
   "source": [
    "grid1[0]"
   ]
  },
  {
   "cell_type": "code",
   "execution_count": null,
   "metadata": {},
   "outputs": [],
   "source": []
  }
 ],
 "metadata": {
  "kernelspec": {
   "display_name": "Python 3",
   "language": "python",
   "name": "python3"
  },
  "language_info": {
   "codemirror_mode": {
    "name": "ipython",
    "version": 3
   },
   "file_extension": ".py",
   "mimetype": "text/x-python",
   "name": "python",
   "nbconvert_exporter": "python",
   "pygments_lexer": "ipython3",
   "version": "3.7.6"
  }
 },
 "nbformat": 4,
 "nbformat_minor": 2
}
